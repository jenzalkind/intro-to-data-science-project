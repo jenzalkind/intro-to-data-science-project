{
 "cells": [
  {
   "attachments": {},
   "cell_type": "markdown",
   "metadata": {},
   "source": [
    "### Part 4: Advanced data analysis and EDA"
   ]
  },
  {
   "attachments": {},
   "cell_type": "markdown",
   "metadata": {},
   "source": [
    "#### Imports section:"
   ]
  },
  {
   "cell_type": "code",
   "execution_count": 4,
   "metadata": {},
   "outputs": [],
   "source": [
    "# Please note if running on a clean environment, need to install missing modules\n",
    "from skimage import io\n",
    "from PIL import Image\n",
    "import copy\n",
    "from sklearn.covariance import EllipticEnvelope\n",
    "from sklearn.ensemble import IsolationForest\n",
    "from sklearn.mixture import GaussianMixture\n",
    "from sklearn.neighbors import KernelDensity, LocalOutlierFactor\n",
    "from sklearn import preprocessing\n",
    "from sklearn import svm\n",
    "import sklearn\n",
    "from IPython.display import display\n",
    "from random import randint\n",
    "import datetime as dt\n",
    "import pprint\n",
    "import json\n",
    "import requests\n",
    "import cv2\n",
    "import plotly.express as px\n",
    "import numpy as np\n",
    "import pandas as pd\n",
    "import seaborn as sns\n",
    "import matplotlib.pyplot as plt\n",
    "%matplotlib inline"
   ]
  },
  {
   "attachments": {},
   "cell_type": "markdown",
   "metadata": {},
   "source": [
    "#### Global variables:"
   ]
  },
  {
   "cell_type": "code",
   "execution_count": 5,
   "metadata": {},
   "outputs": [],
   "source": [
    "CSV_BEFORE_OUTLIERS = \"fire_history_prep.csv\"\n",
    "\n",
    "\n",
    "WEATHER_CSV = 'fire_history_with_weather.csv'\n",
    "FINAL_CSV = 'fire_history_final.csv'\n",
    "OUTLIERS_CSV = 'fire_history_additional.csv'\n",
    "\n",
    "OUTLIERS_MAP = \"geo_outliers.png\"\n",
    "USA_MAP_PNG = \"USAMap.png\""
   ]
  },
  {
   "cell_type": "code",
   "execution_count": 6,
   "metadata": {},
   "outputs": [],
   "source": [
    "def boxplot_outliers(df, df2, cols):\n",
    "    # Set up the subplots\n",
    "    fig, axes = plt.subplots(1, 6, figsize=(15, 7))\n",
    "    ylabels = ['Maximum daily air temperature at 2m above ground in °C',\n",
    "               'Minimum daily air temperature at 2m above ground in °C',\n",
    "               'Maximum wind speed on a day in km/h',\n",
    "               'Dominant wind direction °',\n",
    "               'The sum of solar radiation on a given day in MJ/m²',\n",
    "               'Sum of daily precipitation in mm']\n",
    "\n",
    "    # Create boxplots for each column\n",
    "    for i, col in enumerate(cols):\n",
    "        axes[i].boxplot([df[col], df2[col]],\n",
    "                        labels=['Before', 'After'])\n",
    "        axes[i].set_title(col + ' Boxplot')\n",
    "        axes[i].set_ylabel(ylabels[i])\n",
    "        axes[i].grid(True)\n",
    "\n",
    "    plt.suptitle('Weather outliers:')\n",
    "    plt.tight_layout()\n",
    "    plt.show()"
   ]
  },
  {
   "cell_type": "code",
   "execution_count": 7,
   "metadata": {},
   "outputs": [],
   "source": [
    "def geo_scatter(df, projection_type):\n",
    "    fire_cause = df['FireCause'].map({1: 'Human', 2: 'Natural', 3: 'Unknown', 4: 'Undetermined'})\n",
    "    fig = px.scatter_geo(df,\n",
    "                         lat=df['InitialLatitude'],\n",
    "                         lon=df['InitialLongitude'],\n",
    "                         color=fire_cause, # need to add temperature\n",
    "                         projection='natural earth',\n",
    "                         opacity=0.5,\n",
    "                         size=df['FireDuration'])\n",
    "    fig.update_coloraxes(colorbar_title_text='Fire Cause')\n",
    "    fig.show()"
   ]
  },
  {
   "cell_type": "code",
   "execution_count": 8,
   "metadata": {},
   "outputs": [],
   "source": [
    "def pie_fire_cause(df):\n",
    "    fire_cause = df['FireCause'].value_counts().sort_index()\n",
    "    labels = ['Human', 'Natural', 'Unknown', 'Undetermined']\n",
    "    fig = plt.pie(fire_cause,\n",
    "                  explode=(0, 0.1, 0, 0),\n",
    "                  labels=labels,\n",
    "                  autopct='%1.1f%%',\n",
    "                  shadow=True,\n",
    "                  startangle=90)\n",
    "    fig.show()"
   ]
  },
  {
   "cell_type": "code",
   "execution_count": 9,
   "metadata": {},
   "outputs": [],
   "source": [
    "def bar_fire_cause_duration(df):\n",
    "    df_bar = df.copy()\n",
    "    df_bar['FireCause'] = df['FireCause'].map({1: 'Human', 2: 'Natural', 3: 'Unknown', 4: 'Undetermined'})\n",
    "    df_bar = df_bar.groupby(['FireCause'])['FireDuration'].mean()\n",
    "    ax = df_bar.plot(kind='bar',\n",
    "                     title='Fire duration by cause',\n",
    "                     ylabel='Fire duration in days',\n",
    "                     xlabel='Fire cause')\n",
    "    ax.set_xticklabels(ax.get_xticklabels(), rotation=0)\n",
    "    plt.show()"
   ]
  },
  {
   "cell_type": "code",
   "execution_count": 10,
   "metadata": {},
   "outputs": [],
   "source": [
    "def scatter_fire(df, x, y):\n",
    "    for value in reversed(df['CausedByWeather'].unique()):\n",
    "        data = df[df['CausedByWeather'] == value]\n",
    "        plt.scatter(data[x],\n",
    "                    data[y],\n",
    "                    label=0,\n",
    "                    s=data['FireDuration'],\n",
    "                    alpha=0.5)\n",
    "    plt.legend(['Other', 'Natural'], title='Cause')\n",
    "    plt.xlabel(x)\n",
    "    plt.ylabel(y)\n",
    "    plt.show()"
   ]
  }
 ],
 "metadata": {
  "kernelspec": {
   "display_name": "Python 3",
   "language": "python",
   "name": "python3"
  },
  "language_info": {
   "codemirror_mode": {
    "name": "ipython",
    "version": 3
   },
   "file_extension": ".py",
   "mimetype": "text/x-python",
   "name": "python",
   "nbconvert_exporter": "python",
   "pygments_lexer": "ipython3",
   "version": "3.10.6"
  },
  "orig_nbformat": 4
 },
 "nbformat": 4,
 "nbformat_minor": 2
}
