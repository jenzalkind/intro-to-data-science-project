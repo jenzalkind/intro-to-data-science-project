{
 "cells": [
  {
   "cell_type": "markdown",
   "metadata": {},
   "source": [
    "# **Forest Fire Prediction**"
   ]
  },
  {
   "attachments": {},
   "cell_type": "markdown",
   "metadata": {},
   "source": [
    "### Part 3: Gathering data from wether API"
   ]
  },
  {
   "cell_type": "code",
   "execution_count": null,
   "metadata": {},
   "outputs": [],
   "source": [
    "# Please note if running on a clean environment, need to install missing modules\n",
    "import pandas as pd\n",
    "import numpy as np\n",
    "import requests\n",
    "import matplotlib.pyplot as plt\n",
    "\n",
    "pd.options.mode.chained_assignment = None"
   ]
  },
  {
   "cell_type": "code",
   "execution_count": null,
   "metadata": {},
   "outputs": [],
   "source": [
    "API_URL = 'https://archive-api.open-meteo.com/v1/archive'\n",
    "\n",
    "FINAL_AFTER_PREP_CSV = 'fire_history_prep.csv'\n",
    "ADD_WEATHER_CSV = 'fire_history_add_weather.csv'\n",
    "WEATHER_OUTLIERS_CSV = 'fire_history_weather_outliers_removed.csv'\n",
    "\n",
    "FINAL_CSV = 'fire_history_final.csv'\n",
    "\n",
    "PARAMETERS = ['temperature_2m_max', 'temperature_2m_min', 'windspeed_10m_max', 'winddirection_10m_dominant', 'shortwave_radiation_sum', 'precipitation_sum']\n",
    "WEATHER_COLS = ['MaxTemperature', 'MinTemperature', 'WindSpeed', 'WindDirection', 'Radiation', 'Precipitation']"
   ]
  },
  {
   "cell_type": "code",
   "execution_count": null,
   "metadata": {},
   "outputs": [],
   "source": [
    "def get_weather(latitude, longitude, date):\n",
    "    params = {'latitude': latitude, 'longitude': longitude, 'start_date': date, 'end_date': date, \n",
    "              'daily': PARAMETERS, 'mim': date, 'max': date, 'timezone': 'GMT'}\n",
    "    response = requests.get(API_URL, params=params)\n",
    "    if response.status_code == 200:\n",
    "        return response.json()['daily']\n",
    "    else:\n",
    "        return None"
   ]
  },
  {
   "cell_type": "code",
   "execution_count": null,
   "metadata": {},
   "outputs": [],
   "source": [
    "def add_weather_data(df):\n",
    "    df_updated = df.copy()\n",
    "    df_updated[WEATHER_COLS] = np.nan\n",
    "\n",
    "    lats = df_updated['InitialLatitude'].tolist()\n",
    "    longs = df_updated['InitialLongitude'].tolist()\n",
    "    dates = df_updated['FireDiscoveryDateTime'].tolist()\n",
    "\n",
    "    final_data = [get_weather(lat, lon, date) for lat, lon, date in zip(lats, longs, dates)]\n",
    "\n",
    "    for row in df_updated.index:\n",
    "        for i in range(len(WEATHER_COLS)):\n",
    "            df_updated[WEATHER_COLS[i]][row] = final_data[row][PARAMETERS[i]][0]\n",
    "\n",
    "    return df_updated"
   ]
  },
  {
   "cell_type": "code",
   "execution_count": null,
   "metadata": {},
   "outputs": [],
   "source": [
    "def remove_outliers(df, outliers):\n",
    "    for row in df.index:\n",
    "        if outliers[row] == True:\n",
    "            df.drop(row, inplace=True)\n",
    "    df.reset_index(drop=True, inplace=True)\n",
    "    return df"
   ]
  },
  {
   "cell_type": "code",
   "execution_count": null,
   "metadata": {},
   "outputs": [],
   "source": [
    "def weather_outliers(df):\n",
    "    df_cleaned = df.copy()\n",
    "\n",
    "    for col in WEATHER_COLS:\n",
    "        outliers = []\n",
    "        data = df_cleaned[col]\n",
    "        Q1 = data.quantile(0.25)\n",
    "        Q3 = data.quantile(0.75)\n",
    "        IQR = Q3 - Q1\n",
    "        lower_bound = Q1 - (1.5 * IQR)\n",
    "        upper_bound = Q3 + (1.5 * IQR)\n",
    "\n",
    "        for x in data:\n",
    "            if x < lower_bound or x > upper_bound:\n",
    "                outliers.append(True)\n",
    "            else:\n",
    "                outliers.append(False)\n",
    "\n",
    "        df_cleaned = remove_outliers(df_cleaned, outliers)\n",
    "\n",
    "    return df_cleaned"
   ]
  },
  {
   "cell_type": "code",
   "execution_count": null,
   "metadata": {},
   "outputs": [],
   "source": [
    "def boxplot_outliers(df, df2):\n",
    "    # Set up the subplots\n",
    "    fig, axes = plt.subplots(1, 6, figsize=(15, 7))\n",
    "    ylabels = ['Maximum daily air temperature at 2m above ground in °C',\n",
    "               'Minimum daily air temperature at 2m above ground in °C',\n",
    "               'Maximum wind speed on a day in km/h',\n",
    "               'Dominant wind direction °',\n",
    "               'The sum of solar radiation on a given day in MJ/m²',\n",
    "               'Sum of daily precipitation in mm']\n",
    "\n",
    "    # Create boxplots for each column\n",
    "    for i, col in enumerate(WEATHER_COLS):\n",
    "        axes[i].boxplot([df[col], df2[col]], labels=['Before', 'After'])\n",
    "        axes[i].set_title(col + ' Boxplot')\n",
    "        axes[i].set_ylabel(ylabels[i])\n",
    "        axes[i].grid(True)\n",
    "\n",
    "    plt.suptitle('Weather outliers:')\n",
    "    plt.tight_layout()\n",
    "    plt.show()"
   ]
  },
  {
   "cell_type": "code",
   "execution_count": null,
   "metadata": {},
   "outputs": [],
   "source": [
    "df = pd.read_csv(FINAL_AFTER_PREP_CSV)\n",
    "df"
   ]
  },
  {
   "cell_type": "code",
   "execution_count": null,
   "metadata": {},
   "outputs": [],
   "source": [
    "df = add_weather_data(df)\n",
    "df.to_csv(ADD_WEATHER_CSV, index=False)\n",
    "df"
   ]
  },
  {
   "cell_type": "code",
   "execution_count": null,
   "metadata": {},
   "outputs": [],
   "source": [
    "df2 = weather_outliers(df)\n",
    "df2.to_csv(WEATHER_OUTLIERS_CSV, index=False)\n",
    "df2"
   ]
  },
  {
   "cell_type": "code",
   "execution_count": null,
   "metadata": {},
   "outputs": [],
   "source": [
    "boxplot_outliers(df, df2)"
   ]
  }
 ],
 "metadata": {
  "language_info": {
   "name": "python"
  },
  "orig_nbformat": 4
 },
 "nbformat": 4,
 "nbformat_minor": 2
}
