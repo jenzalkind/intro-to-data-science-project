{
 "cells": [
  {
   "cell_type": "markdown",
   "metadata": {},
   "source": [
    "# **Forest Fire Prediction**"
   ]
  },
  {
   "attachments": {},
   "cell_type": "markdown",
   "metadata": {},
   "source": [
    "### Part 3: Gathering data from wether API"
   ]
  },
  {
   "cell_type": "code",
   "execution_count": null,
   "metadata": {},
   "outputs": [],
   "source": [
    "import pandas as pd\n",
    "import numpy as np\n",
    "import requests\n",
    "import json\n",
    "\n",
    "pd.options.mode.chained_assignment = None"
   ]
  },
  {
   "cell_type": "code",
   "execution_count": null,
   "metadata": {},
   "outputs": [],
   "source": [
    "API_URL = 'https://archive-api.open-meteo.com/v1/archive'\n",
    "\n",
    "FINAL_CSV = 'fire_history_final.csv'\n",
    "\n",
    "PARAMETERS = ['temperature_2m_max', 'temperature_2m_min', 'windspeed_10m_max', 'winddirection_10m_dominant', 'shortwave_radiation_sum', 'precipitation_sum']\n",
    "WEATHER_COLS = ['MaxTemperature', 'MinTemperature', 'WindSpeed', 'WindDirection', 'Radiation', 'Precipitation']\n"
   ]
  },
  {
   "cell_type": "code",
   "execution_count": null,
   "metadata": {},
   "outputs": [],
   "source": [
    "def get_weather(latitude, longitude, date):\n",
    "    params = {'latitude': latitude, 'longitude': longitude, 'start_date': date, 'end_date': date, \n",
    "              'daily': PARAMETERS, 'mim': date, 'max': date, 'timezone': 'GMT'}\n",
    "    response = requests.get(API_URL, params=params)\n",
    "    if response.status_code == 200:\n",
    "        return response.json()['daily']\n",
    "    else:\n",
    "        return None"
   ]
  },
  {
   "cell_type": "code",
   "execution_count": null,
   "metadata": {},
   "outputs": [],
   "source": [
    "def add_weather_data(df):\n",
    "    df_updated = df.copy()\n",
    "    df_updated[WEATHER_COLS] = np.nan\n",
    "\n",
    "    lats = df_updated['InitialLatitude'].tolist()\n",
    "    longs = df_updated['InitialLongitude'].tolist()\n",
    "    dates = df_updated['FireDiscoveryDateTime'].tolist()\n",
    "\n",
    "    final_data = []\n",
    "    final_data = [get_weather(lat, lon, date) for lat, lon, date in zip(lats, longs, dates)]\n",
    "\n",
    "    for row in df_updated.index:\n",
    "        for i in range(len(WEATHER_COLS)):\n",
    "            df_updated[WEATHER_COLS[i]][row] = final_data[row][PARAMETERS[i]][0]\n",
    "\n",
    "    return df_updated"
   ]
  },
  {
   "cell_type": "code",
   "execution_count": null,
   "metadata": {},
   "outputs": [],
   "source": [
    "df.to_csv(FINAL_CSV, index=False)\n",
    "df"
   ]
  }
 ],
 "metadata": {
  "language_info": {
   "name": "python"
  },
  "orig_nbformat": 4
 },
 "nbformat": 4,
 "nbformat_minor": 2
}
