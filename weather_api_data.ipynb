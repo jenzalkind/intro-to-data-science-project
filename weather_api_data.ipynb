{
 "cells": [
  {
   "cell_type": "markdown",
   "metadata": {},
   "source": [
    "# **Forest Fire Prediction**"
   ]
  },
  {
   "attachments": {},
   "cell_type": "markdown",
   "metadata": {},
   "source": [
    "### Part 3: Gathering data from wether API"
   ]
  },
  {
   "cell_type": "code",
   "execution_count": null,
   "metadata": {},
   "outputs": [],
   "source": [
    "import pandas as pd\n",
    "import numpy as np\n",
    "import requests\n",
    "\n",
    "pd.options.mode.chained_assignment = None"
   ]
  },
  {
   "cell_type": "code",
   "execution_count": null,
   "metadata": {},
   "outputs": [],
   "source": [
    "API_URL = 'https://archive-api.open-meteo.com/v1/archive'\n",
    "PARAMETERS = ['temperature_2m_max', 'temperature_2m_min', 'windspeed_10m_max', 'winddirection_10m_dominant', 'shortwave_radiation_sum', 'precipitation_sum']\n",
    "WEATHER_COLS = ['MaxTemperature', 'MinTemperature', 'WindSpeed', 'WindDirection', 'Radiation', 'Precipitation']\n"
   ]
  },
  {
   "cell_type": "code",
   "execution_count": null,
   "metadata": {},
   "outputs": [],
   "source": [
    "def get_weather_json(latitude, longitude, date):\n",
    "    params = {'latitude': latitude, 'longitude': longitude, 'start_date': date, 'end_date': date, \n",
    "              'daily': PARAMETERS, 'mim': date, 'max': date, 'timezone': 'GMT'}\n",
    "    res = requests.get(API_URL, params=params)\n",
    "    if res.status_code == 200:\n",
    "        return res.json()\n",
    "    else:\n",
    "        return None"
   ]
  },
  {
   "cell_type": "code",
   "execution_count": null,
   "metadata": {},
   "outputs": [],
   "source": [
    "def add_weather_columns(df):\n",
    "    df_updated = df.copy()\n",
    "    for col in WEATHER_COLS:\n",
    "        df_updated[col] = np.nan\n",
    "    return df_updated"
   ]
  },
  {
   "cell_type": "code",
   "execution_count": null,
   "metadata": {},
   "outputs": [],
   "source": [
    "def fetch_weather_data(df, file_name):\n",
    "    df_updated = df.copy()\n",
    "    #df_updated = add_weather_columns(df_updated)\n",
    "\n",
    "    for row in df_updated.index:\n",
    "        latitude = df_updated['InitialLatitude'][row]\n",
    "        longitude = df_updated['InitialLongitude'][row]\n",
    "        date = df_updated['FireDiscoveryDateTime'][row]\n",
    "\n",
    "        json_data = get_weather_json(latitude, longitude, date)\n",
    " \n",
    "        \n",
    "        if json_data is not None:\n",
    "            for col in WEATHER_COLS.index:\n",
    "                df_updated.loc[index, WEATHER_COLS[col]] = json_data[PARAMETERS[col]]\n",
    "    #df_updated.to_csv(file_name, index=False)\n",
    "    return df_updated\n"
   ]
  }
 ],
 "metadata": {
  "language_info": {
   "name": "python"
  },
  "orig_nbformat": 4
 },
 "nbformat": 4,
 "nbformat_minor": 2
}
